{
 "cells": [
  {
   "cell_type": "markdown",
   "metadata": {},
   "source": [
    "# 求时间差"
   ]
  },
  {
   "cell_type": "code",
   "execution_count": 5,
   "metadata": {},
   "outputs": [],
   "source": [
    "import datetime"
   ]
  },
  {
   "cell_type": "code",
   "execution_count": 10,
   "metadata": {},
   "outputs": [
    {
     "data": {
      "text/plain": [
       "31"
      ]
     },
     "execution_count": 10,
     "metadata": {},
     "output_type": "execute_result"
    }
   ],
   "source": [
    "str_p = '2019-01-30 15:29:08'\n",
    "str_p2 = '2018-12-30 15:29:08'\n",
    "dateTime_p = datetime.datetime.strptime(str_p,'%Y-%m-%d %H:%M:%S')\n",
    "dateTime_p2 = datetime.datetime.strptime(str_p2,'%Y-%m-%d %H:%M:%S')\n",
    "diff_days = (dateTime_p - dateTime_p2).days\n",
    "diff_days"
   ]
  },
  {
   "cell_type": "markdown",
   "metadata": {},
   "source": [
    "## treelib学习"
   ]
  },
  {
   "cell_type": "code",
   "execution_count": 19,
   "metadata": {},
   "outputs": [
    {
     "name": "stdout",
     "output_type": "stream",
     "text": [
      "Harry\n",
      "└── Jane\n",
      "\n"
     ]
    }
   ],
   "source": [
    "from treelib import Node, Tree\n",
    "tree = Tree()\n",
    "tree.create_node(tag=\"Harry\", identifier=\"harry\",data= \"datadata\")  # root node # tag和harry可省略\n",
    "tree.create_node(\"Jane\", \"jane\", parent=\"harry\")\n",
    "tree.show()"
   ]
  },
  {
   "cell_type": "code",
   "execution_count": 11,
   "metadata": {},
   "outputs": [
    {
     "data": {
      "text/plain": [
       "True"
      ]
     },
     "execution_count": 11,
     "metadata": {},
     "output_type": "execute_result"
    }
   ],
   "source": [
    "tree.contains('harry')"
   ]
  },
  {
   "cell_type": "code",
   "execution_count": 12,
   "metadata": {},
   "outputs": [
    {
     "data": {
      "text/plain": [
       "'datadata'"
      ]
     },
     "execution_count": 12,
     "metadata": {},
     "output_type": "execute_result"
    }
   ],
   "source": [
    "tree['harry'].data"
   ]
  },
  {
   "cell_type": "code",
   "execution_count": 13,
   "metadata": {},
   "outputs": [
    {
     "data": {
      "text/plain": [
       "Node(tag=Harry, identifier=harry, data=datadata)"
      ]
     },
     "execution_count": 13,
     "metadata": {},
     "output_type": "execute_result"
    }
   ],
   "source": [
    "tree['harry']"
   ]
  },
  {
   "cell_type": "code",
   "execution_count": 24,
   "metadata": {},
   "outputs": [
    {
     "data": {
      "text/plain": [
       "3"
      ]
     },
     "execution_count": 24,
     "metadata": {},
     "output_type": "execute_result"
    }
   ],
   "source": [
    "class NodeData(object):\n",
    "        def __init__(self, clifi, freq): \n",
    "            self.clifi = clifi\n",
    "            self.freq = freq\n",
    "t = NodeData('test',3)\n",
    "tree2 = Tree()\n",
    "tree2.create_node(tag=\"Harry\", identifier=\"harry\",data = t)  # root node # tag和harry可省略\n",
    "tree2.create_node(\"Jane\", \"jane\", parent=\"harry\")\n",
    "# tree2.show(data_property = 'freq')\n",
    "t.freq"
   ]
  },
  {
   "cell_type": "code",
   "execution_count": null,
   "metadata": {},
   "outputs": [],
   "source": []
  }
 ],
 "metadata": {
  "kernelspec": {
   "display_name": "Python 3",
   "language": "python",
   "name": "python3"
  },
  "language_info": {
   "codemirror_mode": {
    "name": "ipython",
    "version": 3
   },
   "file_extension": ".py",
   "mimetype": "text/x-python",
   "name": "python",
   "nbconvert_exporter": "python",
   "pygments_lexer": "ipython3",
   "version": "3.7.0"
  }
 },
 "nbformat": 4,
 "nbformat_minor": 4
}
